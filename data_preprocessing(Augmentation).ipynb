{
 "cells": [
  {
   "cell_type": "markdown",
   "metadata": {},
   "source": [
    "# Importing Libraries"
   ]
  },
  {
   "cell_type": "code",
   "execution_count": 1,
   "metadata": {},
   "outputs": [
    {
     "data": {
      "text/plain": [
       "RandomState(MT19937) at 0x1EB21A7AF40"
      ]
     },
     "execution_count": 1,
     "metadata": {},
     "output_type": "execute_result"
    }
   ],
   "source": [
    "import pandas as pd\n",
    "import matplotlib.pyplot as plt\n",
    "import numpy as np\n",
    "import seaborn as sns\n",
    "\n",
    "import os\n",
    "from PIL import Image\n",
    "import cv2 as cv\n",
    "from tqdm import tqdm\n",
    "\n",
    "\n",
    "from sklearn.model_selection import train_test_split\n",
    "\n",
    "import warnings \n",
    "warnings.filterwarnings(\"ignore\")\n",
    "\n",
    "np.random.seed(42)\n",
    "np.random.RandomState(42)\n"
   ]
  },
  {
   "cell_type": "code",
   "execution_count": 2,
   "metadata": {},
   "outputs": [],
   "source": [
    "def summary(data) : \n",
    "    \"\"\" Take a pandas dataframe and create a summary about missing values \"\"\"\n",
    "    result = (pd.DataFrame(data.dtypes, columns=[\"Data Type\"]).reset_index().rename(columns={'index': 'Column'}))\n",
    "    result[\"Unique\"] = data.nunique().values\n",
    "    result[\"Null\"] = data.isna().sum().values\n",
    "    result[\"%null\"] = np.round(data.isna().sum().values / data.shape[0] * 100, decimals=2)\n",
    "    return result\n"
   ]
  },
  {
   "cell_type": "code",
   "execution_count": null,
   "metadata": {},
   "outputs": [],
   "source": [
    "data = pd.read_csv('data/ddi_metadata.csv')\n",
    "\n",
    "data.head()\n"
   ]
  },
  {
   "cell_type": "code",
   "execution_count": null,
   "metadata": {},
   "outputs": [],
   "source": [
    "data.drop(['Unnamed: 0'], axis=1, inplace = True)\n",
    "data.head()\n"
   ]
  },
  {
   "cell_type": "code",
   "execution_count": 5,
   "metadata": {},
   "outputs": [
    {
     "data": {
      "text/html": [
       "<div>\n",
       "<style scoped>\n",
       "    .dataframe tbody tr th:only-of-type {\n",
       "        vertical-align: middle;\n",
       "    }\n",
       "\n",
       "    .dataframe tbody tr th {\n",
       "        vertical-align: top;\n",
       "    }\n",
       "\n",
       "    .dataframe thead th {\n",
       "        text-align: right;\n",
       "    }\n",
       "</style>\n",
       "<table border=\"1\" class=\"dataframe\">\n",
       "  <thead>\n",
       "    <tr style=\"text-align: right;\">\n",
       "      <th></th>\n",
       "      <th>Column</th>\n",
       "      <th>Data Type</th>\n",
       "      <th>Unique</th>\n",
       "      <th>Null</th>\n",
       "      <th>%null</th>\n",
       "    </tr>\n",
       "  </thead>\n",
       "  <tbody>\n",
       "    <tr>\n",
       "      <th>0</th>\n",
       "      <td>DDI_ID</td>\n",
       "      <td>int64</td>\n",
       "      <td>656</td>\n",
       "      <td>0</td>\n",
       "      <td>0.0</td>\n",
       "    </tr>\n",
       "    <tr>\n",
       "      <th>1</th>\n",
       "      <td>DDI_file</td>\n",
       "      <td>object</td>\n",
       "      <td>656</td>\n",
       "      <td>0</td>\n",
       "      <td>0.0</td>\n",
       "    </tr>\n",
       "    <tr>\n",
       "      <th>2</th>\n",
       "      <td>skin_tone</td>\n",
       "      <td>int64</td>\n",
       "      <td>3</td>\n",
       "      <td>0</td>\n",
       "      <td>0.0</td>\n",
       "    </tr>\n",
       "    <tr>\n",
       "      <th>3</th>\n",
       "      <td>malignant</td>\n",
       "      <td>bool</td>\n",
       "      <td>2</td>\n",
       "      <td>0</td>\n",
       "      <td>0.0</td>\n",
       "    </tr>\n",
       "    <tr>\n",
       "      <th>4</th>\n",
       "      <td>disease</td>\n",
       "      <td>object</td>\n",
       "      <td>78</td>\n",
       "      <td>0</td>\n",
       "      <td>0.0</td>\n",
       "    </tr>\n",
       "  </tbody>\n",
       "</table>\n",
       "</div>"
      ],
      "text/plain": [
       "      Column Data Type  Unique  Null  %null\n",
       "0     DDI_ID     int64     656     0    0.0\n",
       "1   DDI_file    object     656     0    0.0\n",
       "2  skin_tone     int64       3     0    0.0\n",
       "3  malignant      bool       2     0    0.0\n",
       "4    disease    object      78     0    0.0"
      ]
     },
     "execution_count": 5,
     "metadata": {},
     "output_type": "execute_result"
    }
   ],
   "source": [
    "summary(data)\n"
   ]
  },
  {
   "cell_type": "markdown",
   "metadata": {},
   "source": [
    "## Now we'll try to get a new column: Melanoma and Non-Melanoma Cancers or Neither (Benign)\n"
   ]
  },
  {
   "cell_type": "code",
   "execution_count": 6,
   "metadata": {},
   "outputs": [],
   "source": [
    "indexes = data.index\n",
    "melanoma_column = []\n",
    "\n",
    "for index in indexes:\n",
    "    if data.loc[index, \"malignant\"]:\n",
    "        melanoma_column.append(data.loc[index, \"disease\"])\n",
    "    else:\n",
    "        melanoma_column.append(\"Benign\")\n",
    "\n",
    "\n",
    "data[\"melanoma_col\"] = melanoma_column\n",
    "\n",
    "\n"
   ]
  },
  {
   "cell_type": "code",
   "execution_count": null,
   "metadata": {},
   "outputs": [],
   "source": [
    "indexes = data.index\n",
    "melanoma_column = []\n",
    "\n",
    "for index in indexes:\n",
    "    if data.loc[index, \"malignant\"]:\n",
    "        melanoma_column.append(data.loc[index, \"disease\"])\n",
    "    else:\n",
    "        melanoma_column.append(\"Benign\")\n",
    "\n",
    "\n",
    "data[\"melanoma_col\"] = melanoma_column\n",
    "\n",
    "cancer_types = data.loc[data[\"melanoma_col\"] != \"Benign\", \"melanoma_col\"].unique()\n",
    "\n",
    "melanoma_list = [\n",
    "    'melanoma', 'melanoma-in-situ', 'melanoma-acral-lentiginous', \n",
    "    'nodular-melanoma-(nm)']\n",
    "cancer_types = [c for c in cancer_types if pd.notna(c)] \n",
    "non_melanoma_list = [c for c in cancer_types if c not in melanoma_list]\n",
    "\n",
    "data[\"Disease_Group\"] = \"False\"\n",
    "data.loc[data[\"melanoma_col\"].isin(melanoma_list), \"Disease_Group\"] = \"melanoma\"\n",
    "data.loc[data[\"melanoma_col\"].isin(non_melanoma_list), \"Disease_Group\"] = \"Non_melanoma\"\n",
    "data.loc[data[\"melanoma_col\"] == \"Benign\", \"Disease_Group\" ] = \"Non_melanoma\"\n",
    "data[\"Disease_Group\"].value_counts()\n"
   ]
  },
  {
   "cell_type": "code",
   "execution_count": 8,
   "metadata": {},
   "outputs": [],
   "source": [
    "data.drop(['melanoma_col', 'disease'], axis=1, inplace = True)\n"
   ]
  },
  {
   "cell_type": "markdown",
   "metadata": {},
   "source": [
    "## Create a new column which will contain the path of the images"
   ]
  },
  {
   "cell_type": "code",
   "execution_count": 9,
   "metadata": {},
   "outputs": [
    {
     "data": {
      "text/html": [
       "<div>\n",
       "<style scoped>\n",
       "    .dataframe tbody tr th:only-of-type {\n",
       "        vertical-align: middle;\n",
       "    }\n",
       "\n",
       "    .dataframe tbody tr th {\n",
       "        vertical-align: top;\n",
       "    }\n",
       "\n",
       "    .dataframe thead th {\n",
       "        text-align: right;\n",
       "    }\n",
       "</style>\n",
       "<table border=\"1\" class=\"dataframe\">\n",
       "  <thead>\n",
       "    <tr style=\"text-align: right;\">\n",
       "      <th></th>\n",
       "      <th>DDI_ID</th>\n",
       "      <th>DDI_file</th>\n",
       "      <th>skin_tone</th>\n",
       "      <th>malignant</th>\n",
       "      <th>Disease_Group</th>\n",
       "      <th>DDI_path</th>\n",
       "    </tr>\n",
       "  </thead>\n",
       "  <tbody>\n",
       "    <tr>\n",
       "      <th>0</th>\n",
       "      <td>1</td>\n",
       "      <td>000001.png</td>\n",
       "      <td>56</td>\n",
       "      <td>True</td>\n",
       "      <td>melanoma</td>\n",
       "      <td>data\\000001.png</td>\n",
       "    </tr>\n",
       "    <tr>\n",
       "      <th>1</th>\n",
       "      <td>2</td>\n",
       "      <td>000002.png</td>\n",
       "      <td>56</td>\n",
       "      <td>True</td>\n",
       "      <td>melanoma</td>\n",
       "      <td>data\\000002.png</td>\n",
       "    </tr>\n",
       "    <tr>\n",
       "      <th>2</th>\n",
       "      <td>3</td>\n",
       "      <td>000003.png</td>\n",
       "      <td>56</td>\n",
       "      <td>True</td>\n",
       "      <td>Non_melanoma</td>\n",
       "      <td>data\\000003.png</td>\n",
       "    </tr>\n",
       "    <tr>\n",
       "      <th>3</th>\n",
       "      <td>4</td>\n",
       "      <td>000004.png</td>\n",
       "      <td>56</td>\n",
       "      <td>True</td>\n",
       "      <td>Non_melanoma</td>\n",
       "      <td>data\\000004.png</td>\n",
       "    </tr>\n",
       "    <tr>\n",
       "      <th>4</th>\n",
       "      <td>5</td>\n",
       "      <td>000005.png</td>\n",
       "      <td>12</td>\n",
       "      <td>True</td>\n",
       "      <td>Non_melanoma</td>\n",
       "      <td>data\\000005.png</td>\n",
       "    </tr>\n",
       "  </tbody>\n",
       "</table>\n",
       "</div>"
      ],
      "text/plain": [
       "   DDI_ID    DDI_file  skin_tone  malignant Disease_Group         DDI_path\n",
       "0       1  000001.png         56       True      melanoma  data\\000001.png\n",
       "1       2  000002.png         56       True      melanoma  data\\000002.png\n",
       "2       3  000003.png         56       True  Non_melanoma  data\\000003.png\n",
       "3       4  000004.png         56       True  Non_melanoma  data\\000004.png\n",
       "4       5  000005.png         12       True  Non_melanoma  data\\000005.png"
      ]
     },
     "execution_count": 9,
     "metadata": {},
     "output_type": "execute_result"
    }
   ],
   "source": [
    "image_directory = 'data'\n",
    "\n",
    "data['DDI_path'] = data['DDI_file'].apply(lambda file_name: os.path.join(image_directory, file_name))\n",
    "data.head()\n"
   ]
  },
  {
   "cell_type": "markdown",
   "metadata": {},
   "source": [
    "# Get the number of channel in each image"
   ]
  },
  {
   "cell_type": "code",
   "execution_count": 10,
   "metadata": {},
   "outputs": [
    {
     "data": {
      "text/plain": [
       "array([3])"
      ]
     },
     "execution_count": 10,
     "metadata": {},
     "output_type": "execute_result"
    }
   ],
   "source": [
    "indexes = data.index\n",
    "channel_nbr = []\n",
    "\n",
    "for index in indexes:\n",
    "    image = cv.imread(data.DDI_path[index])\n",
    "    \n",
    "    if image is not None:\n",
    "        channel_nbr.append(image.shape[2])\n",
    "    else:\n",
    "        print(f\"Warning: Could not read image at {data.DDI_path[index]}\")\n",
    "        channel_nbr.append(None)\n",
    "\n",
    "\n",
    "np.unique(channel_nbr)\n"
   ]
  },
  {
   "cell_type": "code",
   "execution_count": 11,
   "metadata": {},
   "outputs": [
    {
     "name": "stdout",
     "output_type": "stream",
     "text": [
      "The unique shapes present in our dataset are: [3]\n"
     ]
    }
   ],
   "source": [
    "def get_channel_count(image_path):\n",
    "    image = cv.imread(image_path)\n",
    "    if image is not None:\n",
    "        return image.shape[2]  \n",
    "    else:\n",
    "        print(f\"Warning: Could not read image at {image_path}\")\n",
    "        return None\n",
    "\n",
    "data['channel_nbr'] = data['DDI_path'].apply(get_channel_count)\n",
    "\n",
    "unique_channel_nbr = data['channel_nbr'].unique()\n",
    "\n",
    "print(f\"The unique shapes present in our dataset are: {unique_channel_nbr}\")\n"
   ]
  },
  {
   "cell_type": "markdown",
   "metadata": {},
   "source": [
    "**So all our images are in the RGB format**"
   ]
  },
  {
   "cell_type": "code",
   "execution_count": 12,
   "metadata": {},
   "outputs": [
    {
     "data": {
      "text/html": [
       "<div>\n",
       "<style scoped>\n",
       "    .dataframe tbody tr th:only-of-type {\n",
       "        vertical-align: middle;\n",
       "    }\n",
       "\n",
       "    .dataframe tbody tr th {\n",
       "        vertical-align: top;\n",
       "    }\n",
       "\n",
       "    .dataframe thead th {\n",
       "        text-align: right;\n",
       "    }\n",
       "</style>\n",
       "<table border=\"1\" class=\"dataframe\">\n",
       "  <thead>\n",
       "    <tr style=\"text-align: right;\">\n",
       "      <th></th>\n",
       "      <th>DDI_ID</th>\n",
       "      <th>DDI_file</th>\n",
       "      <th>skin_tone</th>\n",
       "      <th>malignant</th>\n",
       "      <th>Disease_Group</th>\n",
       "      <th>DDI_path</th>\n",
       "    </tr>\n",
       "  </thead>\n",
       "  <tbody>\n",
       "    <tr>\n",
       "      <th>0</th>\n",
       "      <td>1</td>\n",
       "      <td>000001.png</td>\n",
       "      <td>56</td>\n",
       "      <td>True</td>\n",
       "      <td>melanoma</td>\n",
       "      <td>data\\000001.png</td>\n",
       "    </tr>\n",
       "    <tr>\n",
       "      <th>1</th>\n",
       "      <td>2</td>\n",
       "      <td>000002.png</td>\n",
       "      <td>56</td>\n",
       "      <td>True</td>\n",
       "      <td>melanoma</td>\n",
       "      <td>data\\000002.png</td>\n",
       "    </tr>\n",
       "    <tr>\n",
       "      <th>2</th>\n",
       "      <td>3</td>\n",
       "      <td>000003.png</td>\n",
       "      <td>56</td>\n",
       "      <td>True</td>\n",
       "      <td>Non_melanoma</td>\n",
       "      <td>data\\000003.png</td>\n",
       "    </tr>\n",
       "    <tr>\n",
       "      <th>3</th>\n",
       "      <td>4</td>\n",
       "      <td>000004.png</td>\n",
       "      <td>56</td>\n",
       "      <td>True</td>\n",
       "      <td>Non_melanoma</td>\n",
       "      <td>data\\000004.png</td>\n",
       "    </tr>\n",
       "    <tr>\n",
       "      <th>4</th>\n",
       "      <td>5</td>\n",
       "      <td>000005.png</td>\n",
       "      <td>12</td>\n",
       "      <td>True</td>\n",
       "      <td>Non_melanoma</td>\n",
       "      <td>data\\000005.png</td>\n",
       "    </tr>\n",
       "  </tbody>\n",
       "</table>\n",
       "</div>"
      ],
      "text/plain": [
       "   DDI_ID    DDI_file  skin_tone  malignant Disease_Group         DDI_path\n",
       "0       1  000001.png         56       True      melanoma  data\\000001.png\n",
       "1       2  000002.png         56       True      melanoma  data\\000002.png\n",
       "2       3  000003.png         56       True  Non_melanoma  data\\000003.png\n",
       "3       4  000004.png         56       True  Non_melanoma  data\\000004.png\n",
       "4       5  000005.png         12       True  Non_melanoma  data\\000005.png"
      ]
     },
     "execution_count": 12,
     "metadata": {},
     "output_type": "execute_result"
    }
   ],
   "source": [
    "data.drop([\"channel_nbr\"], axis=1, inplace=True)\n",
    "data.head()\n"
   ]
  },
  {
   "cell_type": "markdown",
   "metadata": {},
   "source": [
    "# EDA"
   ]
  },
  {
   "cell_type": "markdown",
   "metadata": {},
   "source": [
    "Now we'll try to get some idea about the data"
   ]
  },
  {
   "cell_type": "code",
   "execution_count": 13,
   "metadata": {},
   "outputs": [
    {
     "data": {
      "image/png": "[encoded data removed]",
      "text/plain": [
       "<Figure size 640x480 with 1 Axes>"
      ]
     },
     "metadata": {},
     "output_type": "display_data"
    }
   ],
   "source": [
    "my_plot = sns.countplot(x='malignant', data=data, color='b')\n",
    "\n",
    "for p in my_plot.patches:\n",
    "    count = int(p.get_height())  \n",
    "    my_plot.annotate(\n",
    "        f'{count}',  \n",
    "        (p.get_x() + p.get_width() / 2., p.get_height()), \n",
    "        ha='center', va='bottom'  \n",
    "    )\n",
    "\n",
    "my_plot.set_xticklabels(my_plot.get_xticklabels(), rotation=45)\n",
    "plt.ylabel('Count')  \n",
    "plt.show()\n"
   ]
  },
  {
   "cell_type": "code",
   "execution_count": 14,
   "metadata": {},
   "outputs": [
    {
     "data": {
      "image/png": "[encoded data removed]",
      "text/plain": [
       "<Figure size 640x480 with 1 Axes>"
      ]
     },
     "metadata": {},
     "output_type": "display_data"
    }
   ],
   "source": [
    "my_plot = sns.countplot(x='skin_tone', data=data, color='r')\n",
    "\n",
    "for p in my_plot.patches:\n",
    "    count = int(p.get_height())  \n",
    "    my_plot.annotate(\n",
    "        f'{count}',  \n",
    "        (p.get_x() + p.get_width() / 2., p.get_height()), \n",
    "        ha='center', va='bottom'  \n",
    "    )\n",
    "\n",
    "my_plot.set_xticklabels(my_plot.get_xticklabels(), rotation=45)\n",
    "plt.ylabel('Count')  \n",
    "plt.show()\n"
   ]
  },
  {
   "cell_type": "code",
   "execution_count": 15,
   "metadata": {},
   "outputs": [
    {
     "data": {
      "image/png": "[encoded data removed]",
      "text/plain": [
       "<Figure size 640x480 with 1 Axes>"
      ]
     },
     "metadata": {},
     "output_type": "display_data"
    }
   ],
   "source": [
    "my_plot = sns.countplot(x='Disease_Group', data=data, color='g')\n",
    "\n",
    "for p in my_plot.patches:\n",
    "    count = int(p.get_height())  \n",
    "    my_plot.annotate(\n",
    "        f'{count}',  \n",
    "        (p.get_x() + p.get_width() / 2., p.get_height()), \n",
    "        ha='center', va='bottom'  \n",
    "    )\n",
    "\n",
    "my_plot.set_xticklabels(my_plot.get_xticklabels(), rotation=45)\n",
    "plt.ylabel('Count')  \n",
    "plt.show()\n"
   ]
  },
  {
   "cell_type": "code",
   "execution_count": 16,
   "metadata": {},
   "outputs": [
    {
     "data": {
      "text/plain": [
       "skin_tone\n",
       "56    7\n",
       "12    7\n",
       "34    7\n",
       "Name: count, dtype: int64"
      ]
     },
     "execution_count": 16,
     "metadata": {},
     "output_type": "execute_result"
    }
   ],
   "source": [
    "data[data[\"Disease_Group\"] == \"melanoma\"][\"skin_tone\"].value_counts()\n"
   ]
  },
  {
   "cell_type": "markdown",
   "metadata": {},
   "source": [
    "## Now we'll split the data into train set and test set"
   ]
  },
  {
   "cell_type": "code",
   "execution_count": 17,
   "metadata": {},
   "outputs": [
    {
     "data": {
      "text/html": [
       "<div>\n",
       "<style scoped>\n",
       "    .dataframe tbody tr th:only-of-type {\n",
       "        vertical-align: middle;\n",
       "    }\n",
       "\n",
       "    .dataframe tbody tr th {\n",
       "        vertical-align: top;\n",
       "    }\n",
       "\n",
       "    .dataframe thead th {\n",
       "        text-align: right;\n",
       "    }\n",
       "</style>\n",
       "<table border=\"1\" class=\"dataframe\">\n",
       "  <thead>\n",
       "    <tr style=\"text-align: right;\">\n",
       "      <th></th>\n",
       "      <th>DDI_ID</th>\n",
       "      <th>DDI_file</th>\n",
       "      <th>skin_tone</th>\n",
       "      <th>malignant</th>\n",
       "      <th>Disease_Group</th>\n",
       "      <th>DDI_path</th>\n",
       "    </tr>\n",
       "  </thead>\n",
       "  <tbody>\n",
       "    <tr>\n",
       "      <th>0</th>\n",
       "      <td>1</td>\n",
       "      <td>000001.png</td>\n",
       "      <td>56</td>\n",
       "      <td>True</td>\n",
       "      <td>melanoma</td>\n",
       "      <td>data\\000001.png</td>\n",
       "    </tr>\n",
       "    <tr>\n",
       "      <th>1</th>\n",
       "      <td>2</td>\n",
       "      <td>000002.png</td>\n",
       "      <td>56</td>\n",
       "      <td>True</td>\n",
       "      <td>melanoma</td>\n",
       "      <td>data\\000002.png</td>\n",
       "    </tr>\n",
       "    <tr>\n",
       "      <th>2</th>\n",
       "      <td>3</td>\n",
       "      <td>000003.png</td>\n",
       "      <td>56</td>\n",
       "      <td>True</td>\n",
       "      <td>Non_melanoma</td>\n",
       "      <td>data\\000003.png</td>\n",
       "    </tr>\n",
       "    <tr>\n",
       "      <th>3</th>\n",
       "      <td>4</td>\n",
       "      <td>000004.png</td>\n",
       "      <td>56</td>\n",
       "      <td>True</td>\n",
       "      <td>Non_melanoma</td>\n",
       "      <td>data\\000004.png</td>\n",
       "    </tr>\n",
       "    <tr>\n",
       "      <th>4</th>\n",
       "      <td>5</td>\n",
       "      <td>000005.png</td>\n",
       "      <td>12</td>\n",
       "      <td>True</td>\n",
       "      <td>Non_melanoma</td>\n",
       "      <td>data\\000005.png</td>\n",
       "    </tr>\n",
       "  </tbody>\n",
       "</table>\n",
       "</div>"
      ],
      "text/plain": [
       "   DDI_ID    DDI_file  skin_tone  malignant Disease_Group         DDI_path\n",
       "0       1  000001.png         56       True      melanoma  data\\000001.png\n",
       "1       2  000002.png         56       True      melanoma  data\\000002.png\n",
       "2       3  000003.png         56       True  Non_melanoma  data\\000003.png\n",
       "3       4  000004.png         56       True  Non_melanoma  data\\000004.png\n",
       "4       5  000005.png         12       True  Non_melanoma  data\\000005.png"
      ]
     },
     "execution_count": 17,
     "metadata": {},
     "output_type": "execute_result"
    }
   ],
   "source": [
    "data.head()\n"
   ]
  },
  {
   "cell_type": "code",
   "execution_count": null,
   "metadata": {},
   "outputs": [],
   "source": [
    "num_rows_per_skin_tone = 22\n",
    "\n",
    "skin_tones = data['skin_tone'].unique()\n",
    "skin_tone_counts = data['skin_tone'].value_counts()\n",
    "\n",
    "test_df = pd.DataFrame()\n",
    "train_df = pd.DataFrame()\n",
    "\n",
    "for skin_tone in skin_tones:\n",
    "    skin_tone_rows = data[data['skin_tone'] == skin_tone]\n",
    "    num_rows_to_extract = min(num_rows_per_skin_tone, skin_tone_counts[skin_tone])\n",
    "\n",
    "    rows_to_extract = skin_tone_rows.sample(n=num_rows_to_extract)\n",
    "\n",
    "    test_df = pd.concat([test_df, rows_to_extract])\n",
    "\n",
    "test_df = test_df.sample(frac=1).reset_index(drop=True)\n",
    "\n",
    "num_rows_to_keep = len(data) - len(test_df)\n",
    "\n",
    "train_df = data[~data['DDI_ID'].isin(test_df['DDI_ID'].tolist())]\n",
    "\n",
    "train_df = train_df.sample(frac=1).reset_index(drop=True)\n",
    "\n"
   ]
  },
  {
   "cell_type": "code",
   "execution_count": 20,
   "metadata": {},
   "outputs": [
    {
     "name": "stdout",
     "output_type": "stream",
     "text": [
      "The distribution of the malignant variable in the dataframe:\n",
      "malignant\n",
      "False    73.93%\n",
      "True     26.07%\n",
      "Name: proportion, dtype: object\n",
      "\n",
      "The distribution of the malignant variable in the train data:\n",
      "malignant\n",
      "False    73.73%\n",
      "True     26.27%\n",
      "Name: proportion, dtype: object\n",
      "\n",
      "The distribution of the malignant variable in the test_df:\n",
      "malignant\n",
      "False    75.76%\n",
      "True     24.24%\n",
      "Name: proportion, dtype: object\n"
     ]
    }
   ],
   "source": [
    "data_malignant_distribution = data.malignant.value_counts(normalize=True) * 100\n",
    "train_df_malignant_distribution = train_df.malignant.value_counts(normalize=True) * 100\n",
    "test_df_malignant_distribution = test_df.malignant.value_counts(normalize=True) * 100\n",
    "\n",
    "print(f\"The distribution of the malignant variable in the dataframe:\\n{data_malignant_distribution.apply(lambda x: f'{x:.2f}%')}\")\n",
    "print(f\"\\nThe distribution of the malignant variable in the train data:\\n{train_df_malignant_distribution.apply(lambda x: f'{x:.2f}%')}\")\n",
    "print(f\"\\nThe distribution of the malignant variable in the test_df:\\n{test_df_malignant_distribution.apply(lambda x: f'{x:.2f}%')}\")\n"
   ]
  },
  {
   "cell_type": "markdown",
   "metadata": {},
   "source": [
    "So that confirm that even after splitting the data the distrubition for the malignant is still the same"
   ]
  },
  {
   "cell_type": "code",
   "execution_count": null,
   "metadata": {},
   "outputs": [],
   "source": [
    "print(f\"The distribution of the skin tone variable in the dataframe:\\n{data.skin_tone.value_counts()}\")\n",
    "print(f\"\\nThe distribution of the skin tone variable in the train data:\\n{train_df.skin_tone.value_counts()}\")\n",
    "print(f\"\\nThe distribution of the skin tone variable in the test_df:\\n{test_df.skin_tone.value_counts()}\")\n"
   ]
  },
  {
   "cell_type": "markdown",
   "metadata": {},
   "source": [
    "***Now after spliiting the data we should make each image in the train or test folder***"
   ]
  },
  {
   "cell_type": "code",
   "execution_count": 23,
   "metadata": {},
   "outputs": [],
   "source": [
    "train_path = 'data/train/'\n",
    "test_path = 'data/test/'\n",
    "if not os.path.exists(train_path):\n",
    "    os.makedirs(train_path)\n",
    "    \n",
    "if not os.path.exists(test_path):\n",
    "    os.makedirs(test_path)\n"
   ]
  },
  {
   "cell_type": "code",
   "execution_count": 24,
   "metadata": {},
   "outputs": [
    {
     "name": "stderr",
     "output_type": "stream",
     "text": [
      "100%|██████████| 590/590 [00:27<00:00, 21.52it/s]"
     ]
    },
    {
     "name": "stdout",
     "output_type": "stream",
     "text": [
      "Done!\n"
     ]
    },
    {
     "name": "stderr",
     "output_type": "stream",
     "text": [
      "\n"
     ]
    }
   ],
   "source": [
    "train_indexes = train_df.index\n",
    "for index in tqdm(train_indexes):\n",
    "    old_path = train_df.DDI_path[index]\n",
    "    image = cv.imread(old_path)\n",
    "    name = train_df.DDI_file[index]\n",
    "    \n",
    "    new_path = train_path + name\n",
    "    cv.imwrite(new_path, image)\n",
    "    train_df['DDI_path'][index] = new_path\n",
    "    \n",
    "    os.remove(old_path)\n",
    "print(\"Done!\")\n"
   ]
  },
  {
   "cell_type": "code",
   "execution_count": 25,
   "metadata": {},
   "outputs": [
    {
     "name": "stderr",
     "output_type": "stream",
     "text": [
      "100%|██████████| 66/66 [00:03<00:00, 21.16it/s]"
     ]
    },
    {
     "name": "stdout",
     "output_type": "stream",
     "text": [
      "Done!\n"
     ]
    },
    {
     "name": "stderr",
     "output_type": "stream",
     "text": [
      "\n"
     ]
    }
   ],
   "source": [
    "test_indexes = test_df.index\n",
    "for index in tqdm(test_indexes):\n",
    "    old_path = test_df.DDI_path[index]\n",
    "    image = cv.imread(old_path)\n",
    "    name = test_df.DDI_file[index]\n",
    "    \n",
    "    new_path = test_path + name\n",
    "    cv.imwrite(new_path, image)\n",
    "    test_df['DDI_path'][index] = new_path\n",
    "    os.remove(old_path)\n",
    "\n",
    "print(\"Done!\")\n"
   ]
  },
  {
   "cell_type": "markdown",
   "metadata": {},
   "source": [
    "***The images that have not been transferred into the train or test folder are the images that were previously in the test_df, but we decided to delete them to balance our test data.***"
   ]
  },
  {
   "cell_type": "code",
   "execution_count": 26,
   "metadata": {},
   "outputs": [],
   "source": [
    "folder_path = 'data'\n",
    "\n",
    "for filename in os.listdir(folder_path):\n",
    "    if filename.endswith('.png'):\n",
    "        os.remove(os.path.join(folder_path, filename))\n",
    "        print(f\"Deleted: {filename}\")\n"
   ]
  },
  {
   "cell_type": "markdown",
   "metadata": {},
   "source": [
    "# Data Augmentation\n",
    "\n",
    "In our case we can easily se that we have not much data so we decided to make an augmentation for our training data, for this we'll use the albumentations library "
   ]
  },
  {
   "cell_type": "code",
   "execution_count": 27,
   "metadata": {},
   "outputs": [],
   "source": [
    "from albumentations import (\n",
    "    HorizontalFlip, VerticalFlip, Transpose, HueSaturationValue, \n",
    "    ElasticTransform, OpticalDistortion, RandomBrightnessContrast, Rotate,\n",
    "    GridDistortion, CLAHE, GaussNoise, RandomScale\n",
    ")\n",
    "\n",
    "\n",
    "def apply_augmentation(image, augmentation_type, **kwargs):\n",
    "    augmented_image = augmentation_type(p=1, **kwargs)(image=image)['image']\n",
    "    \n",
    "    if not isinstance(augmented_image, np.ndarray):\n",
    "        augmented_image = np.array(augmented_image)\n",
    "    return augmented_image.astype(np.uint8)\n"
   ]
  },
  {
   "cell_type": "code",
   "execution_count": null,
   "metadata": {},
   "outputs": [],
   "source": [
    "sharred_augmentation_params = {\n",
    "    \"horizontalFlip\": (HorizontalFlip, {}),  \n",
    "    \"randomContrast\": (RandomBrightnessContrast, {\"brightness_limit\": 0, \"contrast_limit\": 0.4}),  \n",
    "    \"elasticTransform\": (ElasticTransform, {}),  \n",
    "    \"randomScaling\": (RandomScale, {\"scale_limit\": 0.2}),  \n",
    "    \"rotate\": (Rotate, {\"limit\": 45})  \n",
    "}\n",
    "\n"
   ]
  },
  {
   "cell_type": "code",
   "execution_count": 29,
   "metadata": {},
   "outputs": [],
   "source": [
    "def data_augmentation(data, augmentation_type_name, train_path):\n",
    "    augmentation_type, params = sharred_augmentation_params[augmentation_type_name]\n",
    "    \n",
    "    train_df_copy = data.copy()\n",
    "    \n",
    "    for index, row in train_df_copy.iterrows():\n",
    "        image = cv.imread(row['DDI_path'])\n",
    "\n",
    "        augmented_image = apply_augmentation(image, augmentation_type, **params)\n",
    "\n",
    "        new_name = f\"{row['DDI_file'].split('.')[0]}_{augmentation_type_name}.png\"\n",
    "        new_path = train_path + new_name\n",
    "        cv.imwrite(new_path, augmented_image)\n",
    "        \n",
    "        train_df_copy.at[index, 'DDI_path'] = new_path\n",
    "        train_df_copy.at[index, 'DDI_file'] = new_name\n",
    "\n",
    "    return train_df_copy\n"
   ]
  },
  {
   "cell_type": "markdown",
   "metadata": {},
   "source": [
    "#### Shared augmentation for the two classes"
   ]
  },
  {
   "cell_type": "code",
   "execution_count": 30,
   "metadata": {},
   "outputs": [
    {
     "name": "stdout",
     "output_type": "stream",
     "text": [
      "Shape of horizontalFlip: (590, 6)\n",
      "Shape of randomContrast: (590, 6)\n",
      "Shape of elasticTransform: (590, 6)\n",
      "Shape of randomScaling: (590, 6)\n",
      "Shape of rotate: (590, 6)\n",
      "Shape of the augmented DataFrame: (2950, 6)\n"
     ]
    }
   ],
   "source": [
    "augmented_shared_dfs = {}\n",
    "\n",
    "for augmentation_type_name in sharred_augmentation_params.keys():\n",
    "    augmented_shared_dfs[augmentation_type_name] = data_augmentation(train_df, augmentation_type_name, train_path)\n",
    "    print(f\"Shape of {augmentation_type_name}: {augmented_shared_dfs[augmentation_type_name].shape}\")\n",
    "\n",
    "augmented_shared_dfs_values = list(augmented_shared_dfs.values())\n",
    "train_shared_df_augmented = pd.concat(augmented_shared_dfs_values, axis=0)\n",
    "\n",
    "print(f\"Shape of the augmented DataFrame: {train_shared_df_augmented.shape}\")\n"
   ]
  },
  {
   "cell_type": "code",
   "execution_count": 31,
   "metadata": {},
   "outputs": [
    {
     "name": "stdout",
     "output_type": "stream",
     "text": [
      "horizontalFlip validation passed.\n",
      "randomContrast validation passed.\n",
      "elasticTransform validation passed.\n",
      "randomScaling validation passed.\n",
      "rotate validation passed.\n"
     ]
    }
   ],
   "source": [
    "# Here we'll try to check that there is no issue in the augmented data\n",
    "\n",
    "for augmentation_type_name, augmented_df in augmented_shared_dfs.items():\n",
    "    nbr_of_false = 0\n",
    "    false_file_names = []\n",
    "\n",
    "    for index, row in augmented_df.iterrows():\n",
    "        if (row['skin_tone'] != train_df.at[index, 'skin_tone'] or \n",
    "            row['malignant'] != train_df.at[index, 'malignant'] or \n",
    "            row['Disease_Group'] != train_df.at[index, 'Disease_Group']):\n",
    "            nbr_of_false += 1\n",
    "            false_file_names.append(row['DDI_file'])\n",
    "    \n",
    "    if nbr_of_false > 0:\n",
    "        print(f\"Issue in {augmentation_type_name} with {nbr_of_false} mismatched files.\")\n",
    "    else:\n",
    "        print(f\"{augmentation_type_name} validation passed.\")\n"
   ]
  },
  {
   "cell_type": "markdown",
   "metadata": {},
   "source": [
    "**Concatenate the train_df with the augmented data that we have create**"
   ]
  },
  {
   "cell_type": "code",
   "execution_count": 32,
   "metadata": {},
   "outputs": [
    {
     "data": {
      "text/plain": [
       "(3540, 6)"
      ]
     },
     "execution_count": 32,
     "metadata": {},
     "output_type": "execute_result"
    }
   ],
   "source": [
    "train_df = pd.concat([train_df, train_shared_df_augmented], axis=0)\n",
    "train_df.shape\n"
   ]
  },
  {
   "cell_type": "code",
   "execution_count": 33,
   "metadata": {},
   "outputs": [
    {
     "data": {
      "text/html": [
       "<div>\n",
       "<style scoped>\n",
       "    .dataframe tbody tr th:only-of-type {\n",
       "        vertical-align: middle;\n",
       "    }\n",
       "\n",
       "    .dataframe tbody tr th {\n",
       "        vertical-align: top;\n",
       "    }\n",
       "\n",
       "    .dataframe thead th {\n",
       "        text-align: right;\n",
       "    }\n",
       "</style>\n",
       "<table border=\"1\" class=\"dataframe\">\n",
       "  <thead>\n",
       "    <tr style=\"text-align: right;\">\n",
       "      <th></th>\n",
       "      <th>index</th>\n",
       "      <th>DDI_ID</th>\n",
       "      <th>DDI_file</th>\n",
       "      <th>skin_tone</th>\n",
       "      <th>malignant</th>\n",
       "      <th>Disease_Group</th>\n",
       "      <th>DDI_path</th>\n",
       "    </tr>\n",
       "  </thead>\n",
       "  <tbody>\n",
       "    <tr>\n",
       "      <th>0</th>\n",
       "      <td>572</td>\n",
       "      <td>1</td>\n",
       "      <td>000001_randomScaling.png</td>\n",
       "      <td>56</td>\n",
       "      <td>True</td>\n",
       "      <td>melanoma</td>\n",
       "      <td>data/train/000001_randomScaling.png</td>\n",
       "    </tr>\n",
       "    <tr>\n",
       "      <th>1</th>\n",
       "      <td>572</td>\n",
       "      <td>1</td>\n",
       "      <td>000001_horizontalFlip.png</td>\n",
       "      <td>56</td>\n",
       "      <td>True</td>\n",
       "      <td>melanoma</td>\n",
       "      <td>data/train/000001_horizontalFlip.png</td>\n",
       "    </tr>\n",
       "    <tr>\n",
       "      <th>2</th>\n",
       "      <td>572</td>\n",
       "      <td>1</td>\n",
       "      <td>000001_elasticTransform.png</td>\n",
       "      <td>56</td>\n",
       "      <td>True</td>\n",
       "      <td>melanoma</td>\n",
       "      <td>data/train/000001_elasticTransform.png</td>\n",
       "    </tr>\n",
       "    <tr>\n",
       "      <th>3</th>\n",
       "      <td>572</td>\n",
       "      <td>1</td>\n",
       "      <td>000001_randomContrast.png</td>\n",
       "      <td>56</td>\n",
       "      <td>True</td>\n",
       "      <td>melanoma</td>\n",
       "      <td>data/train/000001_randomContrast.png</td>\n",
       "    </tr>\n",
       "    <tr>\n",
       "      <th>4</th>\n",
       "      <td>572</td>\n",
       "      <td>1</td>\n",
       "      <td>000001_rotate.png</td>\n",
       "      <td>56</td>\n",
       "      <td>True</td>\n",
       "      <td>melanoma</td>\n",
       "      <td>data/train/000001_rotate.png</td>\n",
       "    </tr>\n",
       "    <tr>\n",
       "      <th>5</th>\n",
       "      <td>572</td>\n",
       "      <td>1</td>\n",
       "      <td>000001.png</td>\n",
       "      <td>56</td>\n",
       "      <td>True</td>\n",
       "      <td>melanoma</td>\n",
       "      <td>data/train/000001.png</td>\n",
       "    </tr>\n",
       "    <tr>\n",
       "      <th>6</th>\n",
       "      <td>66</td>\n",
       "      <td>2</td>\n",
       "      <td>000002_rotate.png</td>\n",
       "      <td>56</td>\n",
       "      <td>True</td>\n",
       "      <td>melanoma</td>\n",
       "      <td>data/train/000002_rotate.png</td>\n",
       "    </tr>\n",
       "    <tr>\n",
       "      <th>7</th>\n",
       "      <td>66</td>\n",
       "      <td>2</td>\n",
       "      <td>000002_horizontalFlip.png</td>\n",
       "      <td>56</td>\n",
       "      <td>True</td>\n",
       "      <td>melanoma</td>\n",
       "      <td>data/train/000002_horizontalFlip.png</td>\n",
       "    </tr>\n",
       "    <tr>\n",
       "      <th>8</th>\n",
       "      <td>66</td>\n",
       "      <td>2</td>\n",
       "      <td>000002.png</td>\n",
       "      <td>56</td>\n",
       "      <td>True</td>\n",
       "      <td>melanoma</td>\n",
       "      <td>data/train/000002.png</td>\n",
       "    </tr>\n",
       "    <tr>\n",
       "      <th>9</th>\n",
       "      <td>66</td>\n",
       "      <td>2</td>\n",
       "      <td>000002_elasticTransform.png</td>\n",
       "      <td>56</td>\n",
       "      <td>True</td>\n",
       "      <td>melanoma</td>\n",
       "      <td>data/train/000002_elasticTransform.png</td>\n",
       "    </tr>\n",
       "  </tbody>\n",
       "</table>\n",
       "</div>"
      ],
      "text/plain": [
       "   index  DDI_ID                     DDI_file  skin_tone  malignant  \\\n",
       "0    572       1     000001_randomScaling.png         56       True   \n",
       "1    572       1    000001_horizontalFlip.png         56       True   \n",
       "2    572       1  000001_elasticTransform.png         56       True   \n",
       "3    572       1    000001_randomContrast.png         56       True   \n",
       "4    572       1            000001_rotate.png         56       True   \n",
       "5    572       1                   000001.png         56       True   \n",
       "6     66       2            000002_rotate.png         56       True   \n",
       "7     66       2    000002_horizontalFlip.png         56       True   \n",
       "8     66       2                   000002.png         56       True   \n",
       "9     66       2  000002_elasticTransform.png         56       True   \n",
       "\n",
       "  Disease_Group                                DDI_path  \n",
       "0      melanoma     data/train/000001_randomScaling.png  \n",
       "1      melanoma    data/train/000001_horizontalFlip.png  \n",
       "2      melanoma  data/train/000001_elasticTransform.png  \n",
       "3      melanoma    data/train/000001_randomContrast.png  \n",
       "4      melanoma            data/train/000001_rotate.png  \n",
       "5      melanoma                   data/train/000001.png  \n",
       "6      melanoma            data/train/000002_rotate.png  \n",
       "7      melanoma    data/train/000002_horizontalFlip.png  \n",
       "8      melanoma                   data/train/000002.png  \n",
       "9      melanoma  data/train/000002_elasticTransform.png  "
      ]
     },
     "execution_count": 33,
     "metadata": {},
     "output_type": "execute_result"
    }
   ],
   "source": [
    "train_df = train_df.sort_values(by='DDI_ID', ascending=True).reset_index()\n",
    "train_df.head(10)\n"
   ]
  },
  {
   "cell_type": "code",
   "execution_count": 34,
   "metadata": {},
   "outputs": [
    {
     "data": {
      "text/html": [
       "<div>\n",
       "<style scoped>\n",
       "    .dataframe tbody tr th:only-of-type {\n",
       "        vertical-align: middle;\n",
       "    }\n",
       "\n",
       "    .dataframe tbody tr th {\n",
       "        vertical-align: top;\n",
       "    }\n",
       "\n",
       "    .dataframe thead th {\n",
       "        text-align: right;\n",
       "    }\n",
       "</style>\n",
       "<table border=\"1\" class=\"dataframe\">\n",
       "  <thead>\n",
       "    <tr style=\"text-align: right;\">\n",
       "      <th></th>\n",
       "      <th>DDI_ID</th>\n",
       "      <th>DDI_file</th>\n",
       "      <th>skin_tone</th>\n",
       "      <th>malignant</th>\n",
       "      <th>Disease_Group</th>\n",
       "      <th>DDI_path</th>\n",
       "    </tr>\n",
       "  </thead>\n",
       "  <tbody>\n",
       "    <tr>\n",
       "      <th>0</th>\n",
       "      <td>1</td>\n",
       "      <td>000001_randomScaling.png</td>\n",
       "      <td>56</td>\n",
       "      <td>True</td>\n",
       "      <td>melanoma</td>\n",
       "      <td>data/train/000001_randomScaling.png</td>\n",
       "    </tr>\n",
       "    <tr>\n",
       "      <th>1</th>\n",
       "      <td>1</td>\n",
       "      <td>000001_horizontalFlip.png</td>\n",
       "      <td>56</td>\n",
       "      <td>True</td>\n",
       "      <td>melanoma</td>\n",
       "      <td>data/train/000001_horizontalFlip.png</td>\n",
       "    </tr>\n",
       "    <tr>\n",
       "      <th>2</th>\n",
       "      <td>1</td>\n",
       "      <td>000001_elasticTransform.png</td>\n",
       "      <td>56</td>\n",
       "      <td>True</td>\n",
       "      <td>melanoma</td>\n",
       "      <td>data/train/000001_elasticTransform.png</td>\n",
       "    </tr>\n",
       "  </tbody>\n",
       "</table>\n",
       "</div>"
      ],
      "text/plain": [
       "   DDI_ID                     DDI_file  skin_tone  malignant Disease_Group  \\\n",
       "0       1     000001_randomScaling.png         56       True      melanoma   \n",
       "1       1    000001_horizontalFlip.png         56       True      melanoma   \n",
       "2       1  000001_elasticTransform.png         56       True      melanoma   \n",
       "\n",
       "                                 DDI_path  \n",
       "0     data/train/000001_randomScaling.png  \n",
       "1    data/train/000001_horizontalFlip.png  \n",
       "2  data/train/000001_elasticTransform.png  "
      ]
     },
     "execution_count": 34,
     "metadata": {},
     "output_type": "execute_result"
    }
   ],
   "source": [
    "train_df.drop(['index'], axis=1, inplace = True)\n",
    "train_df = train_df.reset_index(drop=True)\n",
    "train_df.head(3)\n"
   ]
  },
  {
   "cell_type": "code",
   "execution_count": 35,
   "metadata": {},
   "outputs": [
    {
     "data": {
      "text/plain": [
       "malignant\n",
       "False    73.728814\n",
       "True     26.271186\n",
       "Name: proportion, dtype: float64"
      ]
     },
     "execution_count": 35,
     "metadata": {},
     "output_type": "execute_result"
    }
   ],
   "source": [
    "train_df.malignant.value_counts(normalize=True) * 100\n"
   ]
  },
  {
   "cell_type": "markdown",
   "metadata": {},
   "source": [
    "## Encode the data\n"
   ]
  },
  {
   "cell_type": "code",
   "execution_count": 36,
   "metadata": {},
   "outputs": [],
   "source": [
    "from sklearn.preprocessing import OneHotEncoder\n"
   ]
  },
  {
   "cell_type": "code",
   "execution_count": 37,
   "metadata": {},
   "outputs": [],
   "source": [
    "y_encoded_dummies = pd.get_dummies(train_df['malignant'])\n",
    "y_encoded_map = train_df['malignant'].map({False: 0, True: 1})\n",
    "y_encoded = train_df['malignant'].astype(int)\n",
    "train_df['malignant'] = y_encoded\n",
    "\n",
    "\n",
    "y_encoded_dummies_test = pd.get_dummies(test_df['malignant'])\n",
    "y_encoded_map_test = test_df['malignant'].map({False: 0, True: 1})\n",
    "y_encoded_test = test_df['malignant'].astype(int)\n",
    "test_df['malignant'] = y_encoded_test\n"
   ]
  },
  {
   "cell_type": "code",
   "execution_count": 38,
   "metadata": {},
   "outputs": [
    {
     "name": "stdout",
     "output_type": "stream",
     "text": [
      "Train data column:\n",
      " Index(['DDI_ID', 'DDI_file', 'malignant', 'DDI_path', 'skin_tone_12',\n",
      "       'skin_tone_34', 'skin_tone_56', 'Disease_Group_Non_melanoma',\n",
      "       'Disease_Group_melanoma'],\n",
      "      dtype='object')\n",
      "\n",
      "Test data column:\n",
      " Index(['DDI_ID', 'DDI_file', 'malignant', 'DDI_path', 'skin_tone_12',\n",
      "       'skin_tone_34', 'skin_tone_56', 'Disease_Group_Non_melanoma',\n",
      "       'Disease_Group_melanoma'],\n",
      "      dtype='object')\n"
     ]
    }
   ],
   "source": [
    "categorical_columns = ['skin_tone', 'Disease_Group']   \n",
    "\n",
    "train_df_encoded = pd.get_dummies(train_df, columns=categorical_columns)\n",
    "test_df_encoded = pd.get_dummies(test_df, columns=categorical_columns)\n",
    "\n",
    "boolean_columns = train_df_encoded.select_dtypes(include=['bool']).columns\n",
    "train_df_encoded[boolean_columns] = train_df_encoded[boolean_columns].astype(int)\n",
    "test_df_encoded[boolean_columns] = test_df_encoded[boolean_columns].astype(int)\n",
    "\n",
    "print(f\"Train data column:\\n {train_df_encoded.columns}\")\n",
    "print(f\"\\nTest data column:\\n {test_df_encoded.columns}\")\n"
   ]
  },
  {
   "cell_type": "code",
   "execution_count": 39,
   "metadata": {},
   "outputs": [
    {
     "data": {
      "text/html": [
       "<div>\n",
       "<style scoped>\n",
       "    .dataframe tbody tr th:only-of-type {\n",
       "        vertical-align: middle;\n",
       "    }\n",
       "\n",
       "    .dataframe tbody tr th {\n",
       "        vertical-align: top;\n",
       "    }\n",
       "\n",
       "    .dataframe thead th {\n",
       "        text-align: right;\n",
       "    }\n",
       "</style>\n",
       "<table border=\"1\" class=\"dataframe\">\n",
       "  <thead>\n",
       "    <tr style=\"text-align: right;\">\n",
       "      <th></th>\n",
       "      <th>DDI_ID</th>\n",
       "      <th>DDI_file</th>\n",
       "      <th>malignant</th>\n",
       "      <th>DDI_path</th>\n",
       "      <th>skin_tone_12</th>\n",
       "      <th>skin_tone_34</th>\n",
       "      <th>skin_tone_56</th>\n",
       "      <th>Disease_Group_Non_melanoma</th>\n",
       "      <th>Disease_Group_melanoma</th>\n",
       "    </tr>\n",
       "  </thead>\n",
       "  <tbody>\n",
       "    <tr>\n",
       "      <th>0</th>\n",
       "      <td>1</td>\n",
       "      <td>000001_randomScaling.png</td>\n",
       "      <td>1</td>\n",
       "      <td>data/train/000001_randomScaling.png</td>\n",
       "      <td>0</td>\n",
       "      <td>0</td>\n",
       "      <td>1</td>\n",
       "      <td>0</td>\n",
       "      <td>1</td>\n",
       "    </tr>\n",
       "    <tr>\n",
       "      <th>1</th>\n",
       "      <td>1</td>\n",
       "      <td>000001_horizontalFlip.png</td>\n",
       "      <td>1</td>\n",
       "      <td>data/train/000001_horizontalFlip.png</td>\n",
       "      <td>0</td>\n",
       "      <td>0</td>\n",
       "      <td>1</td>\n",
       "      <td>0</td>\n",
       "      <td>1</td>\n",
       "    </tr>\n",
       "    <tr>\n",
       "      <th>2</th>\n",
       "      <td>1</td>\n",
       "      <td>000001_elasticTransform.png</td>\n",
       "      <td>1</td>\n",
       "      <td>data/train/000001_elasticTransform.png</td>\n",
       "      <td>0</td>\n",
       "      <td>0</td>\n",
       "      <td>1</td>\n",
       "      <td>0</td>\n",
       "      <td>1</td>\n",
       "    </tr>\n",
       "    <tr>\n",
       "      <th>3</th>\n",
       "      <td>1</td>\n",
       "      <td>000001_randomContrast.png</td>\n",
       "      <td>1</td>\n",
       "      <td>data/train/000001_randomContrast.png</td>\n",
       "      <td>0</td>\n",
       "      <td>0</td>\n",
       "      <td>1</td>\n",
       "      <td>0</td>\n",
       "      <td>1</td>\n",
       "    </tr>\n",
       "    <tr>\n",
       "      <th>4</th>\n",
       "      <td>1</td>\n",
       "      <td>000001_rotate.png</td>\n",
       "      <td>1</td>\n",
       "      <td>data/train/000001_rotate.png</td>\n",
       "      <td>0</td>\n",
       "      <td>0</td>\n",
       "      <td>1</td>\n",
       "      <td>0</td>\n",
       "      <td>1</td>\n",
       "    </tr>\n",
       "  </tbody>\n",
       "</table>\n",
       "</div>"
      ],
      "text/plain": [
       "   DDI_ID                     DDI_file  malignant  \\\n",
       "0       1     000001_randomScaling.png          1   \n",
       "1       1    000001_horizontalFlip.png          1   \n",
       "2       1  000001_elasticTransform.png          1   \n",
       "3       1    000001_randomContrast.png          1   \n",
       "4       1            000001_rotate.png          1   \n",
       "\n",
       "                                 DDI_path  skin_tone_12  skin_tone_34  \\\n",
       "0     data/train/000001_randomScaling.png             0             0   \n",
       "1    data/train/000001_horizontalFlip.png             0             0   \n",
       "2  data/train/000001_elasticTransform.png             0             0   \n",
       "3    data/train/000001_randomContrast.png             0             0   \n",
       "4            data/train/000001_rotate.png             0             0   \n",
       "\n",
       "   skin_tone_56  Disease_Group_Non_melanoma  Disease_Group_melanoma  \n",
       "0             1                           0                       1  \n",
       "1             1                           0                       1  \n",
       "2             1                           0                       1  \n",
       "3             1                           0                       1  \n",
       "4             1                           0                       1  "
      ]
     },
     "execution_count": 39,
     "metadata": {},
     "output_type": "execute_result"
    }
   ],
   "source": [
    "train_df_encoded.head()\n"
   ]
  },
  {
   "cell_type": "code",
   "execution_count": 40,
   "metadata": {},
   "outputs": [
    {
     "data": {
      "text/html": [
       "<div>\n",
       "<style scoped>\n",
       "    .dataframe tbody tr th:only-of-type {\n",
       "        vertical-align: middle;\n",
       "    }\n",
       "\n",
       "    .dataframe tbody tr th {\n",
       "        vertical-align: top;\n",
       "    }\n",
       "\n",
       "    .dataframe thead th {\n",
       "        text-align: right;\n",
       "    }\n",
       "</style>\n",
       "<table border=\"1\" class=\"dataframe\">\n",
       "  <thead>\n",
       "    <tr style=\"text-align: right;\">\n",
       "      <th></th>\n",
       "      <th>DDI_ID</th>\n",
       "      <th>DDI_file</th>\n",
       "      <th>malignant</th>\n",
       "      <th>DDI_path</th>\n",
       "      <th>skin_tone_12</th>\n",
       "      <th>skin_tone_34</th>\n",
       "      <th>skin_tone_56</th>\n",
       "      <th>Disease_Group_Non_melanoma</th>\n",
       "      <th>Disease_Group_melanoma</th>\n",
       "    </tr>\n",
       "  </thead>\n",
       "  <tbody>\n",
       "    <tr>\n",
       "      <th>0</th>\n",
       "      <td>300</td>\n",
       "      <td>000300.png</td>\n",
       "      <td>1</td>\n",
       "      <td>data/test/000300.png</td>\n",
       "      <td>1</td>\n",
       "      <td>0</td>\n",
       "      <td>0</td>\n",
       "      <td>1</td>\n",
       "      <td>0</td>\n",
       "    </tr>\n",
       "    <tr>\n",
       "      <th>1</th>\n",
       "      <td>40</td>\n",
       "      <td>000040.png</td>\n",
       "      <td>1</td>\n",
       "      <td>data/test/000040.png</td>\n",
       "      <td>1</td>\n",
       "      <td>0</td>\n",
       "      <td>0</td>\n",
       "      <td>1</td>\n",
       "      <td>0</td>\n",
       "    </tr>\n",
       "    <tr>\n",
       "      <th>2</th>\n",
       "      <td>422</td>\n",
       "      <td>000422.png</td>\n",
       "      <td>0</td>\n",
       "      <td>data/test/000422.png</td>\n",
       "      <td>1</td>\n",
       "      <td>0</td>\n",
       "      <td>0</td>\n",
       "      <td>1</td>\n",
       "      <td>0</td>\n",
       "    </tr>\n",
       "    <tr>\n",
       "      <th>3</th>\n",
       "      <td>289</td>\n",
       "      <td>000289.png</td>\n",
       "      <td>1</td>\n",
       "      <td>data/test/000289.png</td>\n",
       "      <td>1</td>\n",
       "      <td>0</td>\n",
       "      <td>0</td>\n",
       "      <td>1</td>\n",
       "      <td>0</td>\n",
       "    </tr>\n",
       "    <tr>\n",
       "      <th>4</th>\n",
       "      <td>258</td>\n",
       "      <td>000258.png</td>\n",
       "      <td>0</td>\n",
       "      <td>data/test/000258.png</td>\n",
       "      <td>1</td>\n",
       "      <td>0</td>\n",
       "      <td>0</td>\n",
       "      <td>1</td>\n",
       "      <td>0</td>\n",
       "    </tr>\n",
       "  </tbody>\n",
       "</table>\n",
       "</div>"
      ],
      "text/plain": [
       "   DDI_ID    DDI_file  malignant              DDI_path  skin_tone_12  \\\n",
       "0     300  000300.png          1  data/test/000300.png             1   \n",
       "1      40  000040.png          1  data/test/000040.png             1   \n",
       "2     422  000422.png          0  data/test/000422.png             1   \n",
       "3     289  000289.png          1  data/test/000289.png             1   \n",
       "4     258  000258.png          0  data/test/000258.png             1   \n",
       "\n",
       "   skin_tone_34  skin_tone_56  Disease_Group_Non_melanoma  \\\n",
       "0             0             0                           1   \n",
       "1             0             0                           1   \n",
       "2             0             0                           1   \n",
       "3             0             0                           1   \n",
       "4             0             0                           1   \n",
       "\n",
       "   Disease_Group_melanoma  \n",
       "0                       0  \n",
       "1                       0  \n",
       "2                       0  \n",
       "3                       0  \n",
       "4                       0  "
      ]
     },
     "execution_count": 40,
     "metadata": {},
     "output_type": "execute_result"
    }
   ],
   "source": [
    "test_df_encoded.head()\n"
   ]
  },
  {
   "cell_type": "markdown",
   "metadata": {},
   "source": [
    "**Check again the distribution for the malignant column after making the augmentation**"
   ]
  },
  {
   "cell_type": "code",
   "execution_count": 41,
   "metadata": {},
   "outputs": [
    {
     "name": "stdout",
     "output_type": "stream",
     "text": [
      "\n",
      "The distribution of the malignant variable in the train data:\n",
      "malignant\n",
      "0    73.73%\n",
      "1    26.27%\n",
      "Name: proportion, dtype: object\n",
      "\n",
      "The distribution of the malignant variable in the test_df:\n",
      "malignant\n",
      "0    75.76%\n",
      "1    24.24%\n",
      "Name: proportion, dtype: object\n"
     ]
    }
   ],
   "source": [
    "train_df_malignant_distribution = train_df_encoded.malignant.value_counts(normalize=True) * 100\n",
    "test_df_malignant_distribution = test_df_encoded.malignant.value_counts(normalize=True) * 100\n",
    "\n",
    "print(f\"\\nThe distribution of the malignant variable in the train data:\\n{train_df_malignant_distribution.apply(lambda x: f'{x:.2f}%')}\")\n",
    "print(f\"\\nThe distribution of the malignant variable in the test_df:\\n{test_df_malignant_distribution.apply(lambda x: f'{x:.2f}%')}\")\n"
   ]
  },
  {
   "cell_type": "code",
   "execution_count": 43,
   "metadata": {},
   "outputs": [],
   "source": [
    "train_df_encoded.to_csv('data/train_data.csv', index = False)\n",
    "test_df_encoded.to_csv('data/test_data.csv', index = False)\n"
   ]
  },
  {
   "cell_type": "markdown",
   "metadata": {},
   "source": [
    "# Orginze our images"
   ]
  },
  {
   "cell_type": "code",
   "execution_count": 44,
   "metadata": {},
   "outputs": [],
   "source": [
    "train_path_malignant = 'data/train/malignant/'\n",
    "train_path_benign = 'data/train/benign/'\n",
    "\n",
    "\n",
    "test_path_malignant = 'data/test/malignant/'\n",
    "test_path_benign = 'data/test/benign/'\n",
    "\n",
    "\n",
    "paths = [train_path_malignant, train_path_benign, test_path_malignant, test_path_benign]\n",
    "\n",
    "for path in paths:\n",
    "    os.makedirs(path, exist_ok=True)\n"
   ]
  },
  {
   "cell_type": "code",
   "execution_count": 45,
   "metadata": {},
   "outputs": [],
   "source": [
    "def organize_images(data_df, path_malignant, path_benign):\n",
    "    \n",
    "    for index, row in tqdm(data_df.iterrows()):\n",
    "        image = cv.imread(row['DDI_path'])\n",
    "        target_path = path_malignant if row['malignant'] else path_benign\n",
    "        new_path = os.path.join(target_path, row['DDI_file'])\n",
    "        cv.imwrite(new_path, image)\n",
    "        \n",
    "        if os.path.exists(row['DDI_path']):\n",
    "            os.remove(row['DDI_path'])\n"
   ]
  },
  {
   "cell_type": "code",
   "execution_count": 46,
   "metadata": {},
   "outputs": [
    {
     "name": "stderr",
     "output_type": "stream",
     "text": [
      "3540it [03:30, 16.84it/s]\n",
      "66it [00:03, 19.36it/s]\n"
     ]
    }
   ],
   "source": [
    "organize_images(train_df, train_path_malignant, train_path_benign)\n",
    "organize_images(test_df, test_path_malignant, test_path_benign)\n"
   ]
  }
 ],
 "metadata": {
  "kernelspec": {
   "display_name": "cuda",
   "language": "python",
   "name": "python3"
  },
  "language_info": {
   "codemirror_mode": {
    "name": "ipython",
    "version": 3
   },
   "file_extension": ".py",
   "mimetype": "text/x-python",
   "name": "python",
   "nbconvert_exporter": "python",
   "pygments_lexer": "ipython3",
   "version": "3.11.10"
  }
 },
 "nbformat": 4,
 "nbformat_minor": 2
}
